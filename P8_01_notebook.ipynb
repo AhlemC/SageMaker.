{
 "cells": [
  {
   "cell_type": "markdown",
   "metadata": {},
   "source": [
    "# Import"
   ]
  },
  {
   "cell_type": "code",
   "execution_count": 1,
   "metadata": {},
   "outputs": [],
   "source": [
    "import pandas as pd\n",
    "import numpy as np\n",
    "import time\n",
    "import os\n",
    "from os import listdir\n",
    "import sys\n",
    "import io\n",
    "from PIL import Image\n",
    "from functools import reduce\n",
    "\n",
    "#Chargez PySpark à l'aide du package findSpark\n",
    "#import findspark\n",
    "#findspark.init()\n",
    "import pyspark\n",
    "\n",
    "# Context & Session\n",
    "from pyspark import SparkContext\n",
    "from pyspark import SparkConf\n",
    "from pyspark.sql import SparkSession, Row\n",
    "\n",
    "# Bibliothèques objets Python pour Apache Arrow\n",
    "import pyarrow\n",
    "\n",
    "# Connextion à S3 AWS\n",
    "import boto3\n",
    "\n",
    "# Traitement des données\n",
    "from pyspark.sql.functions import element_at\n",
    "from pyspark.sql.functions import col, pandas_udf, PandasUDFType\n",
    "from pyspark.sql.functions import udf, split, lit\n",
    "from pyspark.sql.types import ArrayType, StringType, IntegerType, DoubleType, DataType, FloatTyp\n",
    "from pyspark.sql.types import *\n",
    "from typing import Iterator\n",
    "\n",
    "# Taches machine learning\n",
    "from pyspark.ml.image import ImageSchema\n",
    "from pyspark.ml.linalg import Vectors, VectorUDT, DenseVector\n",
    "from pyspark.ml.feature import VectorAssembler\n",
    "from pyspark.ml.feature import StringIndexer, StandardScaler\n",
    "from pyspark.ml.feature import PCA\n",
    "\n",
    "#  Modules matplotlib\n",
    "import matplotlib.pyplot as plt"
   ]
  },
  {
   "cell_type": "code",
   "execution_count": 2,
   "metadata": {},
   "outputs": [
    {
     "name": "stdout",
     "output_type": "stream",
     "text": [
      "/usr/local/cuda-10.0/bin:/opt/amazon/openmpi/bin:/opt/amazon/efa/bin:/home/ec2-user/anaconda3/condabin:/home/ec2-user/.dl_binaries/bin:/usr/local/cuda/bin:/usr/libexec/gcc/x86_64-amazon-linux/4.8.5:/home/ec2-user/anaconda3/envs/python3/bin:/home/ec2-user/anaconda3/condabin:/opt/amazon/openmpi/bin:/opt/amazon/efa/bin:/home/ec2-user/anaconda3/condabin:/home/ec2-user/.dl_binaries/bin:/usr/local/cuda/bin:/usr/libexec/gcc/x86_64-amazon-linux/4.8.5:/usr/local/bin:/bin:/usr/bin:/usr/local/sbin:/usr/sbin:/sbin:/opt/aws/bin:/opt/aws/bin\n"
     ]
    }
   ],
   "source": [
    "print(os.environ['PATH'])"
   ]
  },
  {
   "cell_type": "markdown",
   "metadata": {},
   "source": [
    "# Versions"
   ]
  },
  {
   "cell_type": "code",
   "execution_count": 3,
   "metadata": {},
   "outputs": [
    {
     "name": "stdout",
     "output_type": "stream",
     "text": [
      "Welcome to\r\n",
      "      ____              __\r\n",
      "     / __/__  ___ _____/ /__\r\n",
      "    _\\ \\/ _ \\/ _ `/ __/  '_/\r\n",
      "   /___/ .__/\\_,_/_/ /_/\\_\\   version 2.4.0\r\n",
      "      /_/\r\n",
      "                        \r\n",
      "Using Scala version 2.11.12, OpenJDK 64-Bit Server VM, 1.8.0_302\r\n",
      "Branch \r\n",
      "Compiled by user  on 2018-10-29T06:22:05Z\r\n",
      "Revision \r\n",
      "Url \r\n",
      "Type --help for more information.\r\n"
     ]
    }
   ],
   "source": [
    "! pyspark --version"
   ]
  },
  {
   "cell_type": "code",
   "execution_count": 4,
   "metadata": {},
   "outputs": [
    {
     "name": "stdout",
     "output_type": "stream",
     "text": [
      "Python 3.6.13\r\n"
     ]
    }
   ],
   "source": [
    "! python --version"
   ]
  },
  {
   "cell_type": "code",
   "execution_count": 5,
   "metadata": {},
   "outputs": [
    {
     "name": "stdout",
     "output_type": "stream",
     "text": [
      "java version \"1.7.0_261\"\r\n",
      "OpenJDK Runtime Environment (amzn-2.6.22.1.83.amzn1-x86_64 u261-b02)\r\n",
      "OpenJDK 64-Bit Server VM (build 24.261-b02, mixed mode)\r\n"
     ]
    }
   ],
   "source": [
    "! java -version"
   ]
  },
  {
   "cell_type": "markdown",
   "metadata": {},
   "source": [
    "# Fonctions"
   ]
  },
  {
   "cell_type": "code",
   "execution_count": 6,
   "metadata": {},
   "outputs": [],
   "source": [
    "def recuperer_chemin(images_path):\n",
    "            images_path = images_path.replace(\"s3://monprojet8/\", \"\")\n",
    "        \n",
    "            s3 = boto3.resource(\"s3\")\n",
    "            \n",
    "            bucket = s3.Bucket(\"monprojet8\")\n",
    "            object = bucket.Object(images_path)\n",
    "            response = object.get()\n",
    "            file = response['Body']\n",
    "            return file"
   ]
  },
  {
   "cell_type": "code",
   "execution_count": 7,
   "metadata": {},
   "outputs": [],
   "source": [
    "def redimensionner_image(images_path, size=(20,20)):\n",
    "\n",
    "        image = Image.open(images_path)\n",
    "        image = image.resize((20, 20))\n",
    "\n",
    "        return image"
   ]
  },
  {
   "cell_type": "code",
   "execution_count": 8,
   "metadata": {},
   "outputs": [],
   "source": [
    "def type_fruit(chemin):\n",
    "    \n",
    "    liste = chemin.split(\"/\")\n",
    "    categ = liste[-2]\n",
    "    \n",
    "    return categ    "
   ]
  },
  {
   "cell_type": "markdown",
   "metadata": {},
   "source": [
    "# Lancement d'une session Spark"
   ]
  },
  {
   "cell_type": "code",
   "execution_count": 9,
   "metadata": {},
   "outputs": [],
   "source": [
    "import sagemaker\n",
    "from sagemaker import get_execution_role\n",
    "import sagemaker_pyspark\n",
    "\n",
    "role = get_execution_role()\n",
    "\n",
    "# Configure Spark to use the SageMaker Spark dependency jars\n",
    "jars = sagemaker_pyspark.classpath_jars()\n",
    "\n",
    "classpath = \":\".join(sagemaker_pyspark.classpath_jars())\n",
    "\n",
    "# Lancement d'une session Spark\n",
    "spark = ( \n",
    "    SparkSession.builder.config(\"spark.driver.extraClassPath\", classpath)\n",
    "    .master('local[*]')\n",
    "    .appName('DS_P8')\n",
    "    .getOrCreate()\n",
    "            )"
   ]
  },
  {
   "cell_type": "code",
   "execution_count": 10,
   "metadata": {},
   "outputs": [],
   "source": [
    "region = boto3.Session().region_name\n",
    "endpoint_domain = \"com\"\n",
    "\n",
    "hadoopConf = spark._jsc.hadoopConfiguration() \n",
    "hadoopConf.set(\"fs.s3a.endpoint\", \"s3.{}.amazonaws.{}\".format(region, endpoint_domain))\n",
    "#hadoopConf.set(\"fs.s3a.endpoint\", \"s3.eu-west-3.amazonaws.com\")\n",
    "hadoopConf.set(\"com.amazonaws.services.s3a.enableV4\", \"true\")\n",
    "hadoopConf.set(\"fs.s3a.impl\", \"org.apache.hadoop.fs.s3a.S3AFileSystem\")"
   ]
  },
  {
   "cell_type": "code",
   "execution_count": 11,
   "metadata": {},
   "outputs": [
    {
     "data": {
      "text/html": [
       "\n",
       "            <div>\n",
       "                <p><b>SparkSession - in-memory</b></p>\n",
       "                \n",
       "        <div>\n",
       "            <p><b>SparkContext</b></p>\n",
       "\n",
       "            <p><a href=\"http://ip-172-16-91-25.eu-west-3.compute.internal:4040\">Spark UI</a></p>\n",
       "\n",
       "            <dl>\n",
       "              <dt>Version</dt>\n",
       "                <dd><code>v2.4.0</code></dd>\n",
       "              <dt>Master</dt>\n",
       "                <dd><code>local[*]</code></dd>\n",
       "              <dt>AppName</dt>\n",
       "                <dd><code>DS_P8</code></dd>\n",
       "            </dl>\n",
       "        </div>\n",
       "        \n",
       "            </div>\n",
       "        "
      ],
      "text/plain": [
       "<pyspark.sql.session.SparkSession at 0x7f09f4c8e128>"
      ]
     },
     "execution_count": 11,
     "metadata": {},
     "output_type": "execute_result"
    }
   ],
   "source": [
    "spark"
   ]
  },
  {
   "cell_type": "markdown",
   "metadata": {},
   "source": [
    "# Base de données"
   ]
  },
  {
   "cell_type": "markdown",
   "metadata": {},
   "source": [
    "## Chargement des images stockées sur S3"
   ]
  },
  {
   "cell_type": "code",
   "execution_count": 12,
   "metadata": {},
   "outputs": [],
   "source": [
    "# URL des images\n",
    "url_data = 's3a://monprojet8/P8_02_data_images/*'"
   ]
  },
  {
   "cell_type": "code",
   "execution_count": 13,
   "metadata": {},
   "outputs": [],
   "source": [
    "# Charger des données dans un spark_df\n",
    "fruit_picture = spark.read.format('image').load(url_data) "
   ]
  },
  {
   "cell_type": "code",
   "execution_count": 14,
   "metadata": {},
   "outputs": [
    {
     "name": "stdout",
     "output_type": "stream",
     "text": [
      "root\n",
      " |-- image: struct (nullable = true)\n",
      " |    |-- origin: string (nullable = true)\n",
      " |    |-- height: integer (nullable = true)\n",
      " |    |-- width: integer (nullable = true)\n",
      " |    |-- nChannels: integer (nullable = true)\n",
      " |    |-- mode: integer (nullable = true)\n",
      " |    |-- data: binary (nullable = true)\n",
      "\n"
     ]
    }
   ],
   "source": [
    "# printSchema() Renvoie le schéma de l'image.\n",
    "# Imprime le schéma sous forme d'arborescence.\n",
    "fruit_picture.printSchema()"
   ]
  },
  {
   "cell_type": "code",
   "execution_count": 15,
   "metadata": {},
   "outputs": [],
   "source": [
    "# printSchema() Renvoie le schéma de l'image.\n",
    "# toNDArray( image ) Convertit une image en un tableau avec des métadonnées.\n",
    "# Utiliser un transformateur intégré du type binaire au tableau, en passant en mode RVB\n",
    "ImageArray_first = ImageSchema.toNDArray(fruit_picture.first()['image'])[:, :, ::-1]"
   ]
  },
  {
   "cell_type": "code",
   "execution_count": 16,
   "metadata": {},
   "outputs": [
    {
     "data": {
      "image/png": "[encoded data removed]",
      "text/plain": [
       "<PIL.Image.Image image mode=RGB size=100x100 at 0x7F09F4C1DA90>"
      ]
     },
     "execution_count": 16,
     "metadata": {},
     "output_type": "execute_result"
    }
   ],
   "source": [
    "# PIL.Image. fromarray ( obj , mode = Aucun )\n",
    "# Crée une mémoire d'image à partir d'un objet exportant l'interface de tableau (en utilisant le protocole buffer).\n",
    "Image.fromarray(ImageArray_first)"
   ]
  },
  {
   "cell_type": "markdown",
   "metadata": {},
   "source": [
    "##  Création d'un spark dataframe"
   ]
  },
  {
   "cell_type": "code",
   "execution_count": 17,
   "metadata": {},
   "outputs": [],
   "source": [
    "session = boto3.session.Session()\n",
    "s3_client = session.client(service_name='s3', region_name=\"eu-west-1\")\n",
    "s3 = boto3.client('s3')"
   ]
  },
  {
   "cell_type": "code",
   "execution_count": 18,
   "metadata": {},
   "outputs": [],
   "source": [
    "# Création une liste contenant tous les chemins des images stockées dans S3\n",
    "paginator = s3.get_paginator('list_objects_v2')\n",
    "page_iterator = paginator.paginate(Bucket='monprojet8', Prefix='P8_02_data_images/')\n",
    "prefixe = 'P8_02_data_images/'\n",
    "list_path =  []\n",
    "sub_folders = s3_client.list_objects_v2(Bucket=\"monprojet8\", Prefix=prefixe)\n",
    "for page in page_iterator :\n",
    "    for obj in page['Contents']:\n",
    "        list_path.append(\"s3://monprojet8\"+\"/\"+obj['Key'])"
   ]
  },
  {
   "cell_type": "code",
   "execution_count": 19,
   "metadata": {},
   "outputs": [],
   "source": [
    "# Création d'un RDD à partir de la liste des chemins d'accès aux images\n",
    "rdd = spark.sparkContext.parallelize(list_path)\n",
    "row_rdd = rdd.map(lambda x: Row(x))\n",
    "# Création d'un dataFrame pyspark à partir d'un RDD\n",
    "fruit_picture_df = spark.createDataFrame(row_rdd, [\"path\"])"
   ]
  },
  {
   "cell_type": "code",
   "execution_count": 20,
   "metadata": {
    "scrolled": true
   },
   "outputs": [
    {
     "name": "stdout",
     "output_type": "stream",
     "text": [
      "+-------------------------------------------------+\n",
      "|                                             path|\n",
      "+-------------------------------------------------+\n",
      "|    s3://projet8ocr/data_images/Apricot/0_100.jpg|\n",
      "|  s3://projet8ocr/data_images/Apricot/r_0_100.jpg|\n",
      "|    s3://projet8ocr/data_images/Avocado/0_100.jpg|\n",
      "|s3://projet8ocr/data_images/Avocado/r_100_100.jpg|\n",
      "|     s3://projet8ocr/data_images/Banana/0_100.jpg|\n",
      "|    s3://projet8ocr/data_images/Banana/73_100.jpg|\n",
      "+-------------------------------------------------+\n",
      "\n"
     ]
    }
   ],
   "source": [
    "fruit_picture_df.show(6,truncate = 58)"
   ]
  },
  {
   "cell_type": "markdown",
   "metadata": {},
   "source": [
    "# Prepocessing"
   ]
  },
  {
   "cell_type": "markdown",
   "metadata": {},
   "source": [
    "## Ajout de la colonne donnant le type de fruit (label) "
   ]
  },
  {
   "cell_type": "code",
   "execution_count": 21,
   "metadata": {},
   "outputs": [],
   "source": [
    "udf_label = udf(type_fruit, StringType())\n",
    "fruit_picture_df = fruit_picture_df.withColumn(\"fruit_name\", udf_label('path'))        "
   ]
  },
  {
   "cell_type": "code",
   "execution_count": 22,
   "metadata": {},
   "outputs": [
    {
     "name": "stdout",
     "output_type": "stream",
     "text": [
      "+-------------------------------------------------+----------+\n",
      "|                                             path|fruit_name|\n",
      "+-------------------------------------------------+----------+\n",
      "|    s3://projet8ocr/data_images/Apricot/0_100.jpg|   Apricot|\n",
      "|  s3://projet8ocr/data_images/Apricot/r_0_100.jpg|   Apricot|\n",
      "|    s3://projet8ocr/data_images/Avocado/0_100.jpg|   Avocado|\n",
      "|s3://projet8ocr/data_images/Avocado/r_100_100.jpg|   Avocado|\n",
      "|     s3://projet8ocr/data_images/Banana/0_100.jpg|    Banana|\n",
      "|    s3://projet8ocr/data_images/Banana/73_100.jpg|    Banana|\n",
      "+-------------------------------------------------+----------+\n",
      "\n"
     ]
    }
   ],
   "source": [
    "fruit_picture_df.show(6,truncate = 58)"
   ]
  },
  {
   "cell_type": "markdown",
   "metadata": {},
   "source": [
    "## Redimensionnement des l'images"
   ]
  },
  {
   "cell_type": "code",
   "execution_count": 23,
   "metadata": {},
   "outputs": [],
   "source": [
    "ud_f = udf(lambda x: np.asarray(redimensionner_image(recuperer_chemin(x))).flatten().tolist())\n",
    "fruit_picture_df = fruit_picture_df.withColumn('image', ud_f('path'))"
   ]
  },
  {
   "cell_type": "code",
   "execution_count": 24,
   "metadata": {},
   "outputs": [
    {
     "name": "stdout",
     "output_type": "stream",
     "text": [
      "+-------------------------------------------------+----------+----------------------------------------------------------+\n",
      "|                                             path|fruit_name|                                                     image|\n",
      "+-------------------------------------------------+----------+----------------------------------------------------------+\n",
      "|    s3://projet8ocr/data_images/Apricot/0_100.jpg|   Apricot|[253, 254, 253, 253, 255, 252, 254, 255, 253, 255, 255,...|\n",
      "|  s3://projet8ocr/data_images/Apricot/r_0_100.jpg|   Apricot|[255, 255, 255, 255, 255, 255, 255, 255, 255, 252, 254,...|\n",
      "|    s3://projet8ocr/data_images/Avocado/0_100.jpg|   Avocado|[255, 255, 255, 255, 255, 255, 255, 255, 255, 255, 255,...|\n",
      "|s3://projet8ocr/data_images/Avocado/r_100_100.jpg|   Avocado|[255, 255, 255, 255, 255, 255, 255, 255, 255, 255, 255,...|\n",
      "|     s3://projet8ocr/data_images/Banana/0_100.jpg|    Banana|[255, 255, 255, 255, 255, 255, 255, 255, 255, 255, 255,...|\n",
      "|    s3://projet8ocr/data_images/Banana/73_100.jpg|    Banana|[255, 255, 255, 255, 255, 255, 255, 255, 255, 255, 255,...|\n",
      "+-------------------------------------------------+----------+----------------------------------------------------------+\n",
      "\n"
     ]
    }
   ],
   "source": [
    "fruit_picture_df.show(6,truncate = 58)"
   ]
  },
  {
   "cell_type": "markdown",
   "metadata": {},
   "source": [
    "## StandardScaler\n",
    "\n",
    "Avant de pouvoir réduire la dimensionnalité de l'ensemble de données à l'aide de l'ACP, nous devons d'abord normaliser les features.\n",
    "\n",
    "StandardScaler peut prendre deux paramètres :\n",
    " - withMean : False par défaut. Centre les données avec la moyenne avant mise à l'échelle.\n",
    " - withStd : True par défaut. Met à l'échelle les données à l'écart type de l'unité."
   ]
  },
  {
   "cell_type": "code",
   "execution_count": 25,
   "metadata": {},
   "outputs": [],
   "source": [
    "# conversion format vecteur dense\n",
    "ud_f = udf(lambda r: Vectors.dense(r), VectorUDT())\n",
    "fruit_picture_df = fruit_picture_df.withColumn('image', ud_f('image'))"
   ]
  },
  {
   "cell_type": "code",
   "execution_count": 26,
   "metadata": {},
   "outputs": [],
   "source": [
    "#standardisation des données\n",
    "standardizer = StandardScaler(inputCol=\"image\", outputCol=\"std_features\",\n",
    "                              withStd=True, withMean=True)\n",
    "model_std = standardizer.fit(fruit_picture_df)\n",
    "fruit_picture_df = model_std.transform(fruit_picture_df)"
   ]
  },
  {
   "cell_type": "code",
   "execution_count": 27,
   "metadata": {},
   "outputs": [
    {
     "name": "stdout",
     "output_type": "stream",
     "text": [
      "root\n",
      " |-- path: string (nullable = true)\n",
      " |-- fruit_name: string (nullable = true)\n",
      " |-- image: vector (nullable = true)\n",
      " |-- std_features: vector (nullable = true)\n",
      "\n"
     ]
    }
   ],
   "source": [
    "fruit_picture_df.printSchema()"
   ]
  },
  {
   "cell_type": "markdown",
   "metadata": {},
   "source": [
    "# PCA"
   ]
  },
  {
   "cell_type": "code",
   "execution_count": 28,
   "metadata": {},
   "outputs": [],
   "source": [
    "# Réduction de dimension\n",
    "pca = PCA(k=4, inputCol='std_features', outputCol='pca_features')\n",
    "model_pca = pca.fit(fruit_picture_df)"
   ]
  },
  {
   "cell_type": "code",
   "execution_count": 29,
   "metadata": {},
   "outputs": [],
   "source": [
    "# Transformation des images sur les k premières composantes\n",
    "fruit_picture_df = model_pca.transform(fruit_picture_df)"
   ]
  },
  {
   "cell_type": "code",
   "execution_count": 30,
   "metadata": {},
   "outputs": [],
   "source": [
    "fruit_picture_df = fruit_picture_df.filter(fruit_picture_df.pca_features.isNotNull())"
   ]
  },
  {
   "cell_type": "code",
   "execution_count": 31,
   "metadata": {},
   "outputs": [
    {
     "name": "stdout",
     "output_type": "stream",
     "text": [
      "+--------------------+----------+--------------------+--------------------+--------------------+\n",
      "|                path|fruit_name|               image|        std_features|        pca_features|\n",
      "+--------------------+----------+--------------------+--------------------+--------------------+\n",
      "|s3://projet8ocr/d...|   Apricot|[253.0,254.0,253....|[-2.0412414523193...|[13.7049849872450...|\n",
      "|s3://projet8ocr/d...|   Apricot|[255.0,255.0,255....|[0.40824829046384...|[13.8919405452722...|\n",
      "|s3://projet8ocr/d...|   Avocado|[255.0,255.0,255....|[0.40824829046384...|[16.7925927320891...|\n",
      "|s3://projet8ocr/d...|   Avocado|[255.0,255.0,255....|[0.40824829046384...|[10.4838127380582...|\n",
      "|s3://projet8ocr/d...|    Banana|[255.0,255.0,255....|[0.40824829046384...|[-31.432505182032...|\n",
      "|s3://projet8ocr/d...|    Banana|[255.0,255.0,255....|[0.40824829046384...|[-23.440825820632...|\n",
      "+--------------------+----------+--------------------+--------------------+--------------------+\n",
      "\n"
     ]
    }
   ],
   "source": [
    "fruit_picture_df.show()"
   ]
  },
  {
   "cell_type": "code",
   "execution_count": 32,
   "metadata": {},
   "outputs": [
    {
     "data": {
      "text/plain": [
       "Text(0, 0.5, 'Variance cumulée')"
      ]
     },
     "execution_count": 32,
     "metadata": {},
     "output_type": "execute_result"
    },
    {
     "data": {
      "image/png": "[encoded data removed]",
      "text/plain": [
       "<Figure size 576x360 with 1 Axes>"
      ]
     },
     "metadata": {
      "needs_background": "light"
     },
     "output_type": "display_data"
    }
   ],
   "source": [
    "eVc = model_pca.explainedVariance.cumsum()\n",
    "#plt.rcParams['figure.facecolor']='w'\n",
    "plt.figure(figsize=(8,5))\n",
    "plt.plot(range(1,len(eVc)+1), eVc, color='b',\n",
    "         marker = '.', linestyle='-')\n",
    "plt.title('ÉBOULIS')\n",
    "plt.xlabel('Nombre des premiers composants principaux')\n",
    "plt.ylabel('Variance cumulée')"
   ]
  },
  {
   "cell_type": "markdown",
   "metadata": {},
   "source": [
    "# Sauvegarde dans S3"
   ]
  },
  {
   "cell_type": "code",
   "execution_count": 33,
   "metadata": {},
   "outputs": [],
   "source": [
    "# Sauvegarde au format parquet\n",
    "fruit_picture_df.write.format('parquet').mode('overwrite').save('s3a://monprojet8/resultats_parquet')"
   ]
  },
  {
   "cell_type": "code",
   "execution_count": 34,
   "metadata": {},
   "outputs": [],
   "source": [
    "# Sauvegarde au format csv\n",
    "fruit_picture_panda_df = fruit_picture_df.toPandas()\n",
    "s3 = boto3.client(\"s3\", region_name='eu-west-1')\n",
    "fruit_picture_panda_df.to_csv('s3://projet8ocr/resultats/resultats.csv', index=False)"
   ]
  },
  {
   "cell_type": "code",
   "execution_count": null,
   "metadata": {},
   "outputs": [],
   "source": []
  }
 ],
 "metadata": {
  "kernelspec": {
   "display_name": "Python 3",
   "language": "python",
   "name": "python3"
  },
  "language_info": {
   "codemirror_mode": {
    "name": "ipython",
    "version": 3
   },
   "file_extension": ".py",
   "mimetype": "text/x-python",
   "name": "python",
   "nbconvert_exporter": "python",
   "pygments_lexer": "ipython3",
   "version": "3.8.5"
  }
 },
 "nbformat": 4,
 "nbformat_minor": 5
}
